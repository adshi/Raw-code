{
 "cells": [
  {
   "cell_type": "markdown",
   "metadata": {},
   "source": [
    "### Group member\n",
    " - Sneha Agarwal\n",
    " - Nalini Agrawal\n",
    " - Qijing Zhang (Vicky)\n",
    " - Wenyue Shi (Ada)\n",
    " - Yuwen Wang\n",
    " - Suraj Tata Prasad"
   ]
  },
  {
   "cell_type": "markdown",
   "metadata": {},
   "source": [
    "# Task A. \n",
    "### Ignore the text (reviews) and run a classification model with the numeric data (you can use standard methods like logistic regression, k-nearest neighbors or anything else). What is the best accuracy of your model?"
   ]
  },
  {
   "cell_type": "code",
   "execution_count": 1,
   "metadata": {
    "collapsed": false
   },
   "outputs": [
    {
     "name": "stdout",
     "output_type": "stream",
     "text": [
      "Populating the interactive namespace from numpy and matplotlib\n"
     ]
    }
   ],
   "source": [
    "import pandas as pd\n",
    "from patsy import dmatrices\n",
    "from sklearn.cross_validation import train_test_split\n",
    "\n",
    "from sklearn import metrics\n",
    "import numpy.random as npr\n",
    "%pylab inline"
   ]
  },
  {
   "cell_type": "markdown",
   "metadata": {},
   "source": [
    "### create the target column for the dataframe"
   ]
  },
  {
   "cell_type": "code",
   "execution_count": 2,
   "metadata": {
    "collapsed": false
   },
   "outputs": [
    {
     "data": {
      "text/plain": [
       "array(['votes_cool', 'votes_funny', 'votes_useful', 'Cheap', 'Moderate',\n",
       "       'Expensive', 'VeryExpensive', 'American', 'Chinese', 'French',\n",
       "       'Japanese', 'Indian', 'Italian', 'Greek', 'Mediterranean',\n",
       "       'Mexican', 'Thai', 'Vietnamese', 'Others', 'target'], dtype=object)"
      ]
     },
     "execution_count": 2,
     "metadata": {},
     "output_type": "execute_result"
    },
    {
     "data": {
      "image/png": "[encoded data removed]",
      "text/plain": [
       "<matplotlib.figure.Figure at 0x10954ba10>"
      ]
     },
     "metadata": {},
     "output_type": "display_data"
    }
   ],
   "source": [
    "# load the dataset\n",
    "df = pd.read_csv('yelp.csv')\n",
    "# drop the review column\n",
    "df = df.drop(['Review'], axis = 1)\n",
    "# create a dummy variable for stars\n",
    "df['target'] = df['stars'] > 3\n",
    "df['target'].hist()\n",
    "df = df.drop(['stars'], axis = 1)\n",
    "df.columns.values"
   ]
  },
  {
   "cell_type": "markdown",
   "metadata": {},
   "source": [
    "### create X and y values and split between train and test dataset"
   ]
  },
  {
   "cell_type": "code",
   "execution_count": 3,
   "metadata": {
    "collapsed": false
   },
   "outputs": [],
   "source": [
    "formula = 'target ~ 0 + votes_cool + votes_funny + votes_useful + Cheap + Moderate + Expensive + VeryExpensive + \\\n",
    "           American + Chinese + French + Japanese + Indian + Italian + Greek + Mediterranean + Mexican + Thai + \\\n",
    "           Vietnamese + Others'\n",
    "Y, X = dmatrices(formula, df, return_type='dataframe') \n",
    "y = Y['target[True]']\n",
    "# split the train and test dataset\n",
    "X_train, X_test, y_train, y_test = train_test_split(X, y.values, test_size=0.3, random_state=1)\n",
    "\n",
    "# resample from the low rates because we have fewer low rates records\n",
    "n = len(y[y==1])\n",
    "index_high = [i for i in y.index if y[i]]\n",
    "index_low = [i for i in y.index if not y[i]]\n",
    "new_low = npr.choice(index_low, size = n, replace = True)\n",
    "high_X = X.ix[index_high]\n",
    "high_y = y[index_high]\n",
    "low_X = X.ix[new_low]\n",
    "low_y = y[new_low]\n",
    "new_X = np.concatenate((low_X, high_X), axis=0)\n",
    "new_y = np.concatenate((low_y, high_y), axis = 0)\n",
    "X_new_train, X_new_test, y_new_train, y_new_test = train_test_split(new_X, new_y, test_size=0.4, random_state=1)"
   ]
  },
  {
   "cell_type": "code",
   "execution_count": 4,
   "metadata": {
    "collapsed": true
   },
   "outputs": [],
   "source": [
    "from sklearn import naive_bayes\n",
    "from sklearn import neighbors\n",
    "from sklearn.linear_model import LogisticRegression\n",
    "from sklearn.ensemble import RandomForestClassifier\n",
    "from sklearn.ensemble import GradientBoostingClassifier\n",
    "from sklearn.ensemble import BaggingClassifier\n",
    "from sklearn import tree\n",
    "\n",
    "model_list = [('Naive Bayes', naive_bayes.MultinomialNB()), \n",
    "              ('K-nn', neighbors.KNeighborsClassifier(n_neighbors = 10, weights = 'uniform', p = 2)),\n",
    "              ('logistic regression', LogisticRegression()),\n",
    "              ('Decision Tree', tree.DecisionTreeClassifier(criterion='entropy')),\n",
    "              ('Bagging', BaggingClassifier(tree.DecisionTreeClassifier(criterion='entropy'), random_state=1)),\n",
    "              ('Random Forest', RandomForestClassifier(n_estimators=10, random_state=1)), \n",
    "              ('Gradient Boosting', GradientBoostingClassifier(n_estimators=200, max_depth=4, random_state=1))]\n"
   ]
  },
  {
   "cell_type": "code",
   "execution_count": 5,
   "metadata": {
    "collapsed": false
   },
   "outputs": [
    {
     "name": "stdout",
     "output_type": "stream",
     "text": [
      "Fitting Naive Bayes\n",
      "Fitting K-nn\n",
      "Fitting logistic regression\n",
      "Fitting Decision Tree\n",
      "Fitting Bagging\n",
      "Fitting Random Forest\n",
      "Fitting Gradient Boosting\n"
     ]
    },
    {
     "data": {
      "text/html": [
       "<div>\n",
       "<table border=\"1\" class=\"dataframe\">\n",
       "  <thead>\n",
       "    <tr style=\"text-align: right;\">\n",
       "      <th></th>\n",
       "      <th>Test Accuracy</th>\n",
       "      <th>Training Accuracy</th>\n",
       "    </tr>\n",
       "  </thead>\n",
       "  <tbody>\n",
       "    <tr>\n",
       "      <th>Bagging</th>\n",
       "      <td>0.667667</td>\n",
       "      <td>0.731195</td>\n",
       "    </tr>\n",
       "    <tr>\n",
       "      <th>Decision Tree</th>\n",
       "      <td>0.665000</td>\n",
       "      <td>0.734195</td>\n",
       "    </tr>\n",
       "    <tr>\n",
       "      <th>Gradient Boosting</th>\n",
       "      <td>0.691333</td>\n",
       "      <td>0.703336</td>\n",
       "    </tr>\n",
       "    <tr>\n",
       "      <th>K-nn</th>\n",
       "      <td>0.614167</td>\n",
       "      <td>0.656547</td>\n",
       "    </tr>\n",
       "    <tr>\n",
       "      <th>Naive Bayes</th>\n",
       "      <td>0.679500</td>\n",
       "      <td>0.677620</td>\n",
       "    </tr>\n",
       "    <tr>\n",
       "      <th>Random Forest</th>\n",
       "      <td>0.670333</td>\n",
       "      <td>0.731124</td>\n",
       "    </tr>\n",
       "    <tr>\n",
       "      <th>logistic regression</th>\n",
       "      <td>0.685000</td>\n",
       "      <td>0.684977</td>\n",
       "    </tr>\n",
       "  </tbody>\n",
       "</table>\n",
       "</div>"
      ],
      "text/plain": [
       "                     Test Accuracy  Training Accuracy\n",
       "Bagging                   0.667667           0.731195\n",
       "Decision Tree             0.665000           0.734195\n",
       "Gradient Boosting         0.691333           0.703336\n",
       "K-nn                      0.614167           0.656547\n",
       "Naive Bayes               0.679500           0.677620\n",
       "Random Forest             0.670333           0.731124\n",
       "logistic regression       0.685000           0.684977"
      ]
     },
     "execution_count": 5,
     "metadata": {},
     "output_type": "execute_result"
    }
   ],
   "source": [
    "for (name, model) in model_list: \n",
    "    print 'Fitting', name\n",
    "    model.fit(X_train, y_train)\n",
    "    \n",
    "accuracy_train = {} \n",
    "accuracy_test = {}\n",
    "for (name, model) in model_list:\n",
    "    prediction_train = model.predict(X_train)\n",
    "    accuracy_train[name] = metrics.accuracy_score(y_train, prediction_train) \n",
    "    prediction_test = model.predict(X_test)\n",
    "    accuracy_test[name] = metrics.accuracy_score(y_test, prediction_test)\n",
    "\n",
    "df = pd.DataFrame({'Training Accuracy':accuracy_train, 'Test Accuracy':accuracy_test}) \n",
    "df"
   ]
  },
  {
   "cell_type": "markdown",
   "metadata": {},
   "source": [
    "### The highest accuracy is about 69%."
   ]
  },
  {
   "cell_type": "markdown",
   "metadata": {},
   "source": [
    "# Task B\n",
    "### Perform a supervised classification on a subset of the corpus using the reviews only. You can write your code in Python or R. What accuracy do you get from this text mining exercise?"
   ]
  },
  {
   "cell_type": "code",
   "execution_count": 7,
   "metadata": {
    "collapsed": false
   },
   "outputs": [],
   "source": [
    "from sklearn.feature_extraction.text import CountVectorizer\n",
    "from sklearn.naive_bayes import MultinomialNB\n",
    "from sklearn.metrics import confusion_matrix, accuracy_score\n",
    "from nltk.stem import WordNetLemmatizer\n",
    "\n",
    "df = pd.read_csv('yelp.csv')\n",
    "review = [r.decode('ascii', 'ignore') for r in df['Review']]\n",
    "y = df['stars'] > 3\n",
    "vectorizer = CountVectorizer(min_df=1)\n",
    "X = vectorizer.fit_transform(review)\n",
    "X = X.toarray()\n",
    "X_train, X_test, y_train, y_test = train_test_split(X, y.values, test_size=0.3, random_state=1)\n",
    "\n",
    "n = len(y[y==1])\n",
    "index_high = [i for i in y.index if y[i]]\n",
    "index_low = [i for i in y.index if not y[i]]\n",
    "new_low = npr.choice(index_low, size = n, replace = True)\n",
    "high_X = X[index_high]\n",
    "high_y = y[index_high]\n",
    "low_X = X[new_low]\n",
    "low_y = y[new_low]\n",
    "new_X = np.concatenate((low_X, high_X), axis=0)\n",
    "new_y = np.concatenate((low_y, high_y), axis = 0)\n",
    "X_new_train, X_new_test, y_new_train, y_new_test = train_test_split(new_X, new_y, test_size=0.3, random_state=1)"
   ]
  },
  {
   "cell_type": "code",
   "execution_count": 8,
   "metadata": {
    "collapsed": false
   },
   "outputs": [
    {
     "name": "stdout",
     "output_type": "stream",
     "text": [
      "Fitting Naive Bayes\n",
      "Fitting logistic regression\n"
     ]
    },
    {
     "data": {
      "text/html": [
       "<div>\n",
       "<table border=\"1\" class=\"dataframe\">\n",
       "  <thead>\n",
       "    <tr style=\"text-align: right;\">\n",
       "      <th></th>\n",
       "      <th>Test Accuracy</th>\n",
       "      <th>Training Accuracy</th>\n",
       "    </tr>\n",
       "  </thead>\n",
       "  <tbody>\n",
       "    <tr>\n",
       "      <th>Naive Bayes</th>\n",
       "      <td>0.843500</td>\n",
       "      <td>0.899636</td>\n",
       "    </tr>\n",
       "    <tr>\n",
       "      <th>logistic regression</th>\n",
       "      <td>0.844167</td>\n",
       "      <td>0.980713</td>\n",
       "    </tr>\n",
       "  </tbody>\n",
       "</table>\n",
       "</div>"
      ],
      "text/plain": [
       "                     Test Accuracy  Training Accuracy\n",
       "Naive Bayes               0.843500           0.899636\n",
       "logistic regression       0.844167           0.980713"
      ]
     },
     "execution_count": 8,
     "metadata": {},
     "output_type": "execute_result"
    }
   ],
   "source": [
    "model_list = [('Naive Bayes', naive_bayes.MultinomialNB()), \n",
    "              ('logistic regression', LogisticRegression())]\n",
    "\n",
    "for (name, model) in model_list: \n",
    "    print 'Fitting', name\n",
    "    model.fit(X_train, y_train)\n",
    "    \n",
    "accuracy_train = {} \n",
    "accuracy_test = {}\n",
    "for (name, model) in model_list:\n",
    "    prediction_train = model.predict(X_train)\n",
    "    accuracy_train[name] = metrics.accuracy_score(y_train, prediction_train) \n",
    "    prediction_test = model.predict(X_test)\n",
    "    accuracy_test[name] = metrics.accuracy_score(y_test, prediction_test)\n",
    "\n",
    "df = pd.DataFrame({'Training Accuracy':accuracy_train, 'Test Accuracy':accuracy_test}) \n",
    "df"
   ]
  },
  {
   "cell_type": "code",
   "execution_count": 9,
   "metadata": {
    "collapsed": false
   },
   "outputs": [
    {
     "name": "stdout",
     "output_type": "stream",
     "text": [
      "Fitting all models after resampling\n",
      "Fitting Naive Bayes\n",
      "Fitting logistic regression\n"
     ]
    },
    {
     "data": {
      "text/html": [
       "<div>\n",
       "<table border=\"1\" class=\"dataframe\">\n",
       "  <thead>\n",
       "    <tr style=\"text-align: right;\">\n",
       "      <th></th>\n",
       "      <th>Test Accuracy</th>\n",
       "      <th>Training Accuracy</th>\n",
       "    </tr>\n",
       "  </thead>\n",
       "  <tbody>\n",
       "    <tr>\n",
       "      <th>Naive Bayes</th>\n",
       "      <td>0.847639</td>\n",
       "      <td>0.894066</td>\n",
       "    </tr>\n",
       "    <tr>\n",
       "      <th>logistic regression</th>\n",
       "      <td>0.893753</td>\n",
       "      <td>0.983556</td>\n",
       "    </tr>\n",
       "  </tbody>\n",
       "</table>\n",
       "</div>"
      ],
      "text/plain": [
       "                     Test Accuracy  Training Accuracy\n",
       "Naive Bayes               0.847639           0.894066\n",
       "logistic regression       0.893753           0.983556"
      ]
     },
     "execution_count": 9,
     "metadata": {},
     "output_type": "execute_result"
    }
   ],
   "source": [
    "print \"Fitting all models after resampling\"\n",
    "for (name, model) in model_list: \n",
    "    print 'Fitting', name\n",
    "    model.fit(X_new_train, y_new_train)\n",
    "    \n",
    "accuracy_train = {} \n",
    "accuracy_test = {}\n",
    "for (name, model) in model_list:\n",
    "    prediction_train = model.predict(X_new_train)\n",
    "    accuracy_train[name] = metrics.accuracy_score(y_new_train, prediction_train) \n",
    "    prediction_test = model.predict(X_new_test)\n",
    "    accuracy_test[name] = metrics.accuracy_score(y_new_test, prediction_test)\n",
    "\n",
    "df = pd.DataFrame({'Training Accuracy':accuracy_train, 'Test Accuracy':accuracy_test}) \n",
    "df"
   ]
  },
  {
   "cell_type": "markdown",
   "metadata": {},
   "source": [
    "### The highest accuracy is 89.4%, which comes from logistic regression after resampling from low ratings."
   ]
  },
  {
   "cell_type": "markdown",
   "metadata": {},
   "source": [
    "# Task C\n",
    "### Combine the numeric data and the text classification model (in task B) to create a “hybrid” model. It is your task to figure out how to do this. Now run this hybrid classification model and compare the results with those in A and B. "
   ]
  },
  {
   "cell_type": "code",
   "execution_count": 30,
   "metadata": {
    "collapsed": false
   },
   "outputs": [],
   "source": [
    "from sklearn.feature_extraction.text import CountVectorizer\n",
    "from sklearn.feature_extraction.text import TfidfVectorizer\n",
    "\n",
    "df = pd.read_csv('yelp.csv')\n",
    "review = [r.decode('ascii', 'ignore') for r in df['Review']]\n",
    "others = df.drop(['Review', 'stars'], axis = 1)\n",
    "y = df['stars'] > 3\n",
    "\n",
    "vectorizer = CountVectorizer(min_df=1, stop_words='english')\n",
    "X = vectorizer.fit_transform(review)\n",
    "main_X = X.toarray()\n",
    "other_X = others.as_matrix()\n",
    "X = np.concatenate((main_X, other_X), axis=1)\n",
    "X.shape\n",
    "X_train, X_test, y_train, y_test = train_test_split(X, y.values, test_size=0.3, random_state=1)\n",
    "\n",
    "n = len(y[y==1])\n",
    "index_high = [i for i in y.index if y[i]]\n",
    "index_low = [i for i in y.index if not y[i]]\n",
    "new_low = npr.choice(index_low, size = n, replace = True)\n",
    "high_X = X[index_high]\n",
    "high_y = y[index_high]\n",
    "low_X = X[new_low]\n",
    "low_y = y[new_low]\n",
    "new_X = np.concatenate((low_X, high_X), axis=0)\n",
    "new_y = np.concatenate((low_y, high_y), axis = 0)\n",
    "X_new_train, X_new_test, y_new_train, y_new_test = train_test_split(new_X, new_y, test_size=0.3, random_state=1)"
   ]
  },
  {
   "cell_type": "code",
   "execution_count": 32,
   "metadata": {
    "collapsed": false
   },
   "outputs": [
    {
     "name": "stdout",
     "output_type": "stream",
     "text": [
      "Fitting Naive Bayes\n",
      "Fitting logistic regression\n"
     ]
    },
    {
     "data": {
      "text/html": [
       "<div>\n",
       "<table border=\"1\" class=\"dataframe\">\n",
       "  <thead>\n",
       "    <tr style=\"text-align: right;\">\n",
       "      <th></th>\n",
       "      <th>Test Accuracy</th>\n",
       "      <th>Training Accuracy</th>\n",
       "    </tr>\n",
       "  </thead>\n",
       "  <tbody>\n",
       "    <tr>\n",
       "      <th>Naive Bayes</th>\n",
       "      <td>0.836167</td>\n",
       "      <td>0.89885</td>\n",
       "    </tr>\n",
       "    <tr>\n",
       "      <th>logistic regression</th>\n",
       "      <td>0.837500</td>\n",
       "      <td>0.97607</td>\n",
       "    </tr>\n",
       "  </tbody>\n",
       "</table>\n",
       "</div>"
      ],
      "text/plain": [
       "                     Test Accuracy  Training Accuracy\n",
       "Naive Bayes               0.836167            0.89885\n",
       "logistic regression       0.837500            0.97607"
      ]
     },
     "execution_count": 32,
     "metadata": {},
     "output_type": "execute_result"
    }
   ],
   "source": [
    "model_list = [('Naive Bayes', naive_bayes.MultinomialNB()), \n",
    "              ('logistic regression', LogisticRegression())]\n",
    "\n",
    "for (name, model) in model_list: \n",
    "    print 'Fitting', name\n",
    "    model.fit(X_train, y_train)\n",
    "    \n",
    "accuracy_train = {} \n",
    "accuracy_test = {}\n",
    "for (name, model) in model_list:\n",
    "    prediction_train = model.predict(X_train)\n",
    "    accuracy_train[name] = metrics.accuracy_score(y_train, prediction_train) \n",
    "    prediction_test = model.predict(X_test)\n",
    "    accuracy_test[name] = metrics.accuracy_score(y_test, prediction_test)\n",
    "\n",
    "df = pd.DataFrame({'Training Accuracy':accuracy_train, 'Test Accuracy':accuracy_test}) \n",
    "df"
   ]
  },
  {
   "cell_type": "code",
   "execution_count": 33,
   "metadata": {
    "collapsed": false
   },
   "outputs": [
    {
     "name": "stdout",
     "output_type": "stream",
     "text": [
      "Fitting all models after resampling\n",
      "Fitting Naive Bayes\n",
      "Fitting logistic regression\n"
     ]
    },
    {
     "data": {
      "text/html": [
       "<div>\n",
       "<table border=\"1\" class=\"dataframe\">\n",
       "  <thead>\n",
       "    <tr style=\"text-align: right;\">\n",
       "      <th></th>\n",
       "      <th>Test Accuracy</th>\n",
       "      <th>Training Accuracy</th>\n",
       "    </tr>\n",
       "  </thead>\n",
       "  <tbody>\n",
       "    <tr>\n",
       "      <th>Naive Bayes</th>\n",
       "      <td>0.850590</td>\n",
       "      <td>0.897439</td>\n",
       "    </tr>\n",
       "    <tr>\n",
       "      <th>logistic regression</th>\n",
       "      <td>0.886375</td>\n",
       "      <td>0.980816</td>\n",
       "    </tr>\n",
       "  </tbody>\n",
       "</table>\n",
       "</div>"
      ],
      "text/plain": [
       "                     Test Accuracy  Training Accuracy\n",
       "Naive Bayes               0.850590           0.897439\n",
       "logistic regression       0.886375           0.980816"
      ]
     },
     "execution_count": 33,
     "metadata": {},
     "output_type": "execute_result"
    }
   ],
   "source": [
    "print \"Fitting all models after resampling\"\n",
    "for (name, model) in model_list: \n",
    "    print 'Fitting', name\n",
    "    model.fit(X_new_train, y_new_train)\n",
    "    \n",
    "accuracy_train = {} \n",
    "accuracy_test = {}\n",
    "for (name, model) in model_list:\n",
    "    prediction_train = model.predict(X_new_train)\n",
    "    accuracy_train[name] = metrics.accuracy_score(y_new_train, prediction_train) \n",
    "    prediction_test = model.predict(X_new_test)\n",
    "    accuracy_test[name] = metrics.accuracy_score(y_new_test, prediction_test)\n",
    "\n",
    "df = pd.DataFrame({'Training Accuracy':accuracy_train, 'Test Accuracy':accuracy_test}) \n",
    "df"
   ]
  },
  {
   "cell_type": "code",
   "execution_count": 36,
   "metadata": {
    "collapsed": false,
    "scrolled": true
   },
   "outputs": [
    {
     "name": "stdout",
     "output_type": "stream",
     "text": [
      "most informative attributes for high ratings\n",
      "votes_useful   -3.838853\n",
      "votes_cool     -4.217330\n",
      "food           -4.443807\n",
      "good           -4.469989\n",
      "place          -4.568856\n",
      "votes_funny    -4.625387\n",
      "great          -4.653426\n",
      "Moderate       -4.685982\n",
      "like           -5.023096\n",
      "just           -5.119353\n",
      "dtype: float64\n",
      "most infromative attributes for low ratings\n",
      "possable                 -13.37258\n",
      "dubiousness              -13.37258\n",
      "dubbya                   -13.37258\n",
      "duality                  -13.37258\n",
      "possessive               -13.37258\n",
      "dtpav4wfappezx_pvczrxa   -13.37258\n",
      "possiblity               -13.37258\n",
      "postage                  -13.37258\n",
      "drysince                 -13.37258\n",
      "wkend                    -13.37258\n",
      "dtype: float64\n"
     ]
    }
   ],
   "source": [
    "index = vectorizer.get_feature_names()\n",
    "other_name = others.columns.values\n",
    "all = list(index) + list(other_name)\n",
    "\n",
    "for (name, model) in model_list:\n",
    "    if name == \"Naive Bayes\":\n",
    "        most_info= pd.Series(model.coef_[0], index = all)\n",
    "        most_info.sort(ascending = False)\n",
    "        print \"most informative attributes for high ratings\"\n",
    "        print most_info[:10]\n",
    "        print \"most infromative attributes for low ratings\"\n",
    "        print most_info[-10:]\n",
    "\n",
    "    "
   ]
  },
  {
   "cell_type": "markdown",
   "metadata": {},
   "source": [
    "### The accuracy in part C is much higher than part A but slightly lower than part B."
   ]
  },
  {
   "cell_type": "markdown",
   "metadata": {},
   "source": [
    "# Task D\n",
    "### Use unsupervised sentiment analysis on the reviews (with SentiStrength or any other tool) and use the sentiment score to predict high/low rating. Compare and contrast the results of tasks B and D. What can you conclude from your analysis?"
   ]
  },
  {
   "cell_type": "code",
   "execution_count": 35,
   "metadata": {
    "collapsed": false
   },
   "outputs": [
    {
     "name": "stdout",
     "output_type": "stream",
     "text": [
      "Fitting Logistic Regression\n",
      "Using the sum of Positive and Negative score as X\n",
      "The accuracy is 0.724625\n"
     ]
    }
   ],
   "source": [
    "reviews_rated = pd.read_csv('reviews1_out.txt',sep='\\t')\n",
    "X = reviews_rated['Positive'] + reviews_rated['Negative']\n",
    "X = X.drop(0, axis=0)\n",
    "X = np.reshape(X, newshape=(len(X), 1))\n",
    "X_train, X_test, y_train, y_test = train_test_split(X, y.values, test_size=0.4, random_state=1)\n",
    "model = LogisticRegression()\n",
    "model.fit(X_train, y_train)\n",
    "y_pred = model.predict(X_test)\n",
    "accuracy = metrics.accuracy_score(y_test, y_pred)\n",
    "print \"Fitting Logistic Regression\"\n",
    "print \"Using the sum of Positive and Negative score as X\"\n",
    "print \"The accuracy is\", accuracy"
   ]
  },
  {
   "cell_type": "code",
   "execution_count": 29,
   "metadata": {
    "collapsed": false
   },
   "outputs": [
    {
     "name": "stdout",
     "output_type": "stream",
     "text": [
      "Fitting Logistic Regression\n",
      "Using both Positive and Negative score as X\n",
      "The accuracy is 0.736125\n"
     ]
    }
   ],
   "source": [
    "reviews_rated = pd.read_csv('reviews1_out.txt', sep = '\\t')\n",
    "X = reviews_rated[['Positive', 'Negative']]\n",
    "X = X.drop(0, axis=0)\n",
    "X_train, X_test, y_train, y_test = train_test_split(X, y.values, test_size=0.4, random_state=1)\n",
    "model = LogisticRegression()\n",
    "model.fit(X_train, y_train)\n",
    "y_pred = model.predict(X_test)\n",
    "accuracy = metrics.accuracy_score(y_test, y_pred)\n",
    "print \"Fitting Logistic Regression\"\n",
    "print \"Using both Positive and Negative score as X\"\n",
    "print \"The accuracy is\", accuracy"
   ]
  },
  {
   "cell_type": "markdown",
   "metadata": {},
   "source": [
    "### The accuracy in part D is much lower than that of part B."
   ]
  },
  {
   "cell_type": "markdown",
   "metadata": {},
   "source": [
    "# Task E\n",
    "### Use unsupervised clustering on the text. Does clustering achieve “good” separation between high and low rated restaurants? How can you explain the result?"
   ]
  },
  {
   "cell_type": "code",
   "execution_count": null,
   "metadata": {
    "collapsed": true
   },
   "outputs": [],
   "source": [
    "from sklearn.feature_extraction.text import CountVectorizer\n",
    "from sklearn.feature_extraction.text import TfidfVectorizer\n",
    "from sklearn.naive_bayes import MultinomialNB\n",
    "from sklearn.metrics import confusion_matrix, accuracy_score\n",
    "from nltk.stem import WordNetLemmatizer\n",
    "from sklearn.pipeline import make_pipeline\n",
    "from sklearn.preprocessing import Normalizer\n",
    "from sklearn.decomposition import TruncatedSVD\n",
    "from sklearn.cluster import KMeans, MiniBatchKMeans\n",
    "\n",
    "df = pd.read_csv('yelp.csv')\n",
    "review = [r.decode('ascii', 'ignore') for r in df['Review']]\n",
    "y = df['stars'] > 4\n",
    "vectorizer = TfidfVectorizer(stop_words='english')\n",
    "X = vectorizer.fit_transform(review)\n",
    "\n",
    "# Dimention reduction, similar to PCA, choose the first 5 components\n",
    "svd = TruncatedSVD(n_components = 5, random_state = 2)\n",
    "lsa = make_pipeline(svd, Normalizer(copy=False))\n",
    "X = lsa.fit_transform(X)\n",
    "# X_train, X_test, y_train, y_test = train_test_split(X, y.values, test_size=0.3)\n",
    "\n",
    "n = len(y[y==1])\n",
    "index_high = [i for i in y.index if y[i]]\n",
    "index_low = [i for i in y.index if not y[i]]\n",
    "new_low = npr.choice(index_low, size = n, replace = True)\n",
    "high_X = X[index_high]\n",
    "high_y = y[index_high]\n",
    "low_X = X[new_low]\n",
    "low_y = y[new_low]\n",
    "new_X = np.concatenate((low_X, high_X), axis=0)\n",
    "new_y = np.concatenate((low_y, high_y), axis = 0)\n",
    "# X_new_train, X_new_test, y_new_train, y_new_test = train_test_split(new_X, new_y, test_size=0.3, random_state=1)"
   ]
  },
  {
   "cell_type": "code",
   "execution_count": 20,
   "metadata": {
    "collapsed": false
   },
   "outputs": [
    {
     "name": "stdout",
     "output_type": "stream",
     "text": [
      "None [[ 0.88882547 -0.43928777  0.07952773  0.08716016 -0.05562368]\n",
      " [ 0.59046521  0.39408481 -0.19534897  0.09015685  0.67064038]\n",
      " [ 0.80498933 -0.02921724  0.09920451 -0.14959925  0.56472742]\n",
      " ..., \n",
      " [ 0.72354625  0.6568264   0.12283658 -0.17178259  0.02149005]\n",
      " [ 0.9458513  -0.21672512  0.0196899  -0.12284596 -0.20716351]\n",
      " [ 0.63505422  0.17858968  0.23744712 -0.33878908 -0.62741748]]\n"
     ]
    }
   ],
   "source": [
    "from nltk.cluster import KMeansClusterer, cosine_distance\n",
    "clusterer = KMeansClusterer(2, cosine_distance, repeats=100)\n",
    "clusters = clusterer.cluster(X, True)"
   ]
  },
  {
   "cell_type": "code",
   "execution_count": 21,
   "metadata": {
    "collapsed": false
   },
   "outputs": [
    {
     "data": {
      "text/plain": [
       "0.61688084404220211"
      ]
     },
     "execution_count": 21,
     "metadata": {},
     "output_type": "execute_result"
    }
   ],
   "source": [
    "# print('Clustered:', vectors)\n",
    "metrics.accuracy_score(y, clusters)"
   ]
  },
  {
   "cell_type": "code",
   "execution_count": 22,
   "metadata": {
    "collapsed": false
   },
   "outputs": [
    {
     "name": "stdout",
     "output_type": "stream",
     "text": [
      "Warning: means will be discarded for subsequent trials\n",
      "None [[ 0.92624309  0.10728293  0.21678     0.02418972 -0.28807186]\n",
      " [ 0.82954455  0.05633541  0.12262057 -0.14458779  0.52224585]\n",
      " [ 0.96668246 -0.23292961 -0.04726275  0.09422988 -0.01248148]\n",
      " ..., \n",
      " [ 0.82214436  0.29873822  0.21410073 -0.33081528 -0.28205718]\n",
      " [ 0.72354625  0.6568264   0.12283658 -0.17178259  0.02149005]\n",
      " [ 0.63505422  0.17858968  0.23744712 -0.33878908 -0.62741748]]\n"
     ]
    },
    {
     "data": {
      "text/plain": [
       "0.59865215979214026"
      ]
     },
     "execution_count": 22,
     "metadata": {},
     "output_type": "execute_result"
    }
   ],
   "source": [
    "clusters_resample = clusterer.cluster(new_X, True)\n",
    "metrics.accuracy_score(new_y, clusters_resample)"
   ]
  },
  {
   "cell_type": "code",
   "execution_count": 23,
   "metadata": {
    "collapsed": false
   },
   "outputs": [
    {
     "data": {
      "text/plain": [
       "0.60983049152457625"
      ]
     },
     "execution_count": 23,
     "metadata": {},
     "output_type": "execute_result"
    }
   ],
   "source": [
    "from sklearn.cluster import KMeans\n",
    "kmeans = KMeans(init = 'k-means++', n_clusters=2, random_state=1, max_iter=100, n_init=10)\n",
    "kmeans.fit(X)\n",
    "# scatter(X[:,0], X[:,1], c=y.values, cmap = 'gist_ncar')\n",
    "# scatter(X[:,0], X[:,1], c=kmeans.labels_, cmap='gist_ncar')\n",
    "# scatter(kmeans.cluster_centers_[:,0], kmeans.cluster_centers_[:,1], marker=\"x\", s=200, linewidths=5)\n",
    "prediction = kmeans.labels_\n",
    "metrics.accuracy_score(y, prediction)\n",
    "# metrics.adjusted_rand_score(y, prediction) \n",
    "# print(\"Top terms per cluster:\")\n",
    "# order_centroids = km.cluster_centers_.argsort()[:, ::-1]\n",
    "# terms = vectorizer.get_feature_names()\n",
    "# for i in range(2):\n",
    "#     print(\"Cluster %d:\" % i)\n",
    "#     for ind in order_centroids[i, :10]:\n",
    "#         print(' %s' % terms[ind])\n",
    "#     print()"
   ]
  },
  {
   "cell_type": "markdown",
   "metadata": {},
   "source": [
    "### In part E, the unsupervised clustering gave pretty low accuracy compared with previous parts. \n",
    "After assigning 5 star to be high rating and 1-4 star to be low rating, the accuracy increased from 40% to 60%, which is still the lowest of the six parts. "
   ]
  },
  {
   "cell_type": "code",
   "execution_count": null,
   "metadata": {
    "collapsed": true
   },
   "outputs": [],
   "source": []
  }
 ],
 "metadata": {
  "kernelspec": {
   "display_name": "Python 2",
   "language": "python",
   "name": "python2"
  },
  "language_info": {
   "codemirror_mode": {
    "name": "ipython",
    "version": 2
   },
   "file_extension": ".py",
   "mimetype": "text/x-python",
   "name": "python",
   "nbconvert_exporter": "python",
   "pygments_lexer": "ipython2",
   "version": "2.7.10"
  }
 },
 "nbformat": 4,
 "nbformat_minor": 0
}
